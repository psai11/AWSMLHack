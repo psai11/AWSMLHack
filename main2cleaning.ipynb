{
 "cells": [
  {
   "cell_type": "code",
   "execution_count": 4,
   "metadata": {},
   "outputs": [
    {
     "name": "stderr",
     "output_type": "stream",
     "text": [
      "/Users/in45816805/Library/CloudStorage/OneDrive-Tesco/Scripts/AWSMLHack/.venv/lib/python3.9/site-packages/tqdm/auto.py:21: TqdmWarning: IProgress not found. Please update jupyter and ipywidgets. See https://ipywidgets.readthedocs.io/en/stable/user_install.html\n",
      "  from .autonotebook import tqdm as notebook_tqdm\n",
      "Importing plotly failed. Interactive plots will not work.\n"
     ]
    }
   ],
   "source": [
    "import sys\n",
    "from os.path import join\n",
    "import numpy as np # linear algebra\n",
    "import pandas as pd # data processing, CSV file I/O (e.g. pd.read_csv)\n",
    "import matplotlib.pyplot as plt\n",
    "\n",
    "from sklearn.metrics import mean_squared_error, mean_absolute_error\n",
    "from numpy import sqrt\n",
    "import numpy as np\n",
    "from datetime import datetime, timedelta\n",
    "\n",
    "from prophet import Prophet\n",
    "from prophet.diagnostics import performance_metrics, cross_validation"
   ]
  },
  {
   "cell_type": "code",
   "execution_count": 5,
   "metadata": {},
   "outputs": [
    {
     "data": {
      "text/html": [
       "<div>\n",
       "<style scoped>\n",
       "    .dataframe tbody tr th:only-of-type {\n",
       "        vertical-align: middle;\n",
       "    }\n",
       "\n",
       "    .dataframe tbody tr th {\n",
       "        vertical-align: top;\n",
       "    }\n",
       "\n",
       "    .dataframe thead th {\n",
       "        text-align: right;\n",
       "    }\n",
       "</style>\n",
       "<table border=\"1\" class=\"dataframe\">\n",
       "  <thead>\n",
       "    <tr style=\"text-align: right;\">\n",
       "      <th></th>\n",
       "      <th>ID</th>\n",
       "      <th>Datetime</th>\n",
       "      <th>City_ID</th>\n",
       "      <th>Particulate_matter</th>\n",
       "      <th>SO2_concentration</th>\n",
       "      <th>O3_concentration</th>\n",
       "      <th>CO_concentration</th>\n",
       "      <th>NO2_concentration</th>\n",
       "      <th>Presure</th>\n",
       "      <th>Dew_point</th>\n",
       "      <th>Precipitation</th>\n",
       "      <th>Anonymous_X1</th>\n",
       "      <th>Wind_speed</th>\n",
       "      <th>Moisture_percent</th>\n",
       "      <th>Temperature</th>\n",
       "    </tr>\n",
       "  </thead>\n",
       "  <tbody>\n",
       "    <tr>\n",
       "      <th>0</th>\n",
       "      <td>0</td>\n",
       "      <td>01/01/17 14:00</td>\n",
       "      <td>0</td>\n",
       "      <td>14.0</td>\n",
       "      <td>40.12</td>\n",
       "      <td>85</td>\n",
       "      <td>600.14</td>\n",
       "      <td>38.55</td>\n",
       "      <td>1024.5</td>\n",
       "      <td>-21.4</td>\n",
       "      <td>0.0</td>\n",
       "      <td>1.15</td>\n",
       "      <td>5.7</td>\n",
       "      <td>62.84</td>\n",
       "      <td>-0.323</td>\n",
       "    </tr>\n",
       "    <tr>\n",
       "      <th>1</th>\n",
       "      <td>1</td>\n",
       "      <td>01/01/17 15:00</td>\n",
       "      <td>0</td>\n",
       "      <td>12.0</td>\n",
       "      <td>65.59</td>\n",
       "      <td>84</td>\n",
       "      <td>2082.38</td>\n",
       "      <td>96.09</td>\n",
       "      <td>1025.1</td>\n",
       "      <td>-22.1</td>\n",
       "      <td>0.0</td>\n",
       "      <td>2.24</td>\n",
       "      <td>3.9</td>\n",
       "      <td>79.45</td>\n",
       "      <td>-0.570</td>\n",
       "    </tr>\n",
       "    <tr>\n",
       "      <th>2</th>\n",
       "      <td>2</td>\n",
       "      <td>01/01/17 16:00</td>\n",
       "      <td>0</td>\n",
       "      <td>6.0</td>\n",
       "      <td>58.87</td>\n",
       "      <td>83</td>\n",
       "      <td>1475.88</td>\n",
       "      <td>111.09</td>\n",
       "      <td>1025.3</td>\n",
       "      <td>-24.6</td>\n",
       "      <td>0.0</td>\n",
       "      <td>45.70</td>\n",
       "      <td>5.3</td>\n",
       "      <td>83.44</td>\n",
       "      <td>-1.008</td>\n",
       "    </tr>\n",
       "    <tr>\n",
       "      <th>3</th>\n",
       "      <td>3</td>\n",
       "      <td>01/01/17 17:00</td>\n",
       "      <td>0</td>\n",
       "      <td>5.0</td>\n",
       "      <td>84.67</td>\n",
       "      <td>84</td>\n",
       "      <td>2448.53</td>\n",
       "      <td>67.59</td>\n",
       "      <td>1026.2</td>\n",
       "      <td>-25.5</td>\n",
       "      <td>0.0</td>\n",
       "      <td>15.90</td>\n",
       "      <td>4.9</td>\n",
       "      <td>81.27</td>\n",
       "      <td>-1.234</td>\n",
       "    </tr>\n",
       "    <tr>\n",
       "      <th>4</th>\n",
       "      <td>4</td>\n",
       "      <td>01/01/17 18:00</td>\n",
       "      <td>0</td>\n",
       "      <td>5.0</td>\n",
       "      <td>83.66</td>\n",
       "      <td>77</td>\n",
       "      <td>2224.61</td>\n",
       "      <td>95.86</td>\n",
       "      <td>1027.1</td>\n",
       "      <td>-24.5</td>\n",
       "      <td>0.0</td>\n",
       "      <td>31.30</td>\n",
       "      <td>3.2</td>\n",
       "      <td>81.93</td>\n",
       "      <td>-1.704</td>\n",
       "    </tr>\n",
       "  </tbody>\n",
       "</table>\n",
       "</div>"
      ],
      "text/plain": [
       "   ID        Datetime  City_ID  Particulate_matter SO2_concentration  \\\n",
       "0   0  01/01/17 14:00        0                14.0             40.12   \n",
       "1   1  01/01/17 15:00        0                12.0             65.59   \n",
       "2   2  01/01/17 16:00        0                 6.0             58.87   \n",
       "3   3  01/01/17 17:00        0                 5.0             84.67   \n",
       "4   4  01/01/17 18:00        0                 5.0             83.66   \n",
       "\n",
       "  O3_concentration CO_concentration  NO2_concentration  Presure  Dew_point  \\\n",
       "0               85           600.14              38.55   1024.5      -21.4   \n",
       "1               84          2082.38              96.09   1025.1      -22.1   \n",
       "2               83          1475.88             111.09   1025.3      -24.6   \n",
       "3               84          2448.53              67.59   1026.2      -25.5   \n",
       "4               77          2224.61              95.86   1027.1      -24.5   \n",
       "\n",
       "   Precipitation  Anonymous_X1  Wind_speed  Moisture_percent  Temperature  \n",
       "0            0.0          1.15         5.7             62.84       -0.323  \n",
       "1            0.0          2.24         3.9             79.45       -0.570  \n",
       "2            0.0         45.70         5.3             83.44       -1.008  \n",
       "3            0.0         15.90         4.9             81.27       -1.234  \n",
       "4            0.0         31.30         3.2             81.93       -1.704  "
      ]
     },
     "execution_count": 5,
     "metadata": {},
     "output_type": "execute_result"
    }
   ],
   "source": [
    "import pandas as pd\n",
    "\n",
    "train_data = pd.read_csv('dataset/train.csv')\n",
    "train_data.head()"
   ]
  },
  {
   "cell_type": "code",
   "execution_count": 6,
   "metadata": {},
   "outputs": [
    {
     "data": {
      "text/plain": [
       "(56000, 15)"
      ]
     },
     "execution_count": 6,
     "metadata": {},
     "output_type": "execute_result"
    }
   ],
   "source": [
    "train_data.shape"
   ]
  },
  {
   "cell_type": "code",
   "execution_count": 7,
   "metadata": {},
   "outputs": [
    {
     "name": "stdout",
     "output_type": "stream",
     "text": [
      "0        35044\n",
      "1        35045\n",
      "2        35046\n",
      "3        35047\n",
      "4        35048\n",
      "         ...  \n",
      "27995    63039\n",
      "27996    63040\n",
      "27997    63041\n",
      "27998    63042\n",
      "27999    63043\n",
      "Name: ID, Length: 28000, dtype: int64 0            0\n",
      "1            1\n",
      "2            2\n",
      "3            3\n",
      "4            4\n",
      "         ...  \n",
      "27995    27995\n",
      "27996    27996\n",
      "27997    27997\n",
      "27998    27998\n",
      "27999    27999\n",
      "Name: ID, Length: 28000, dtype: int64\n"
     ]
    }
   ],
   "source": [
    "city0_ids = train_data[train_data['City_ID'] == 0]\n",
    "city1_ids = train_data[train_data['City_ID'] == 1]\n",
    "city1_ids = city1_ids.reset_index()\n",
    "print(city1_ids['ID'], city0_ids['ID'])"
   ]
  },
  {
   "cell_type": "code",
   "execution_count": 8,
   "metadata": {},
   "outputs": [
    {
     "name": "stdout",
     "output_type": "stream",
     "text": [
      "(28000, 13)\n",
      "(28000, 13)\n",
      "Index(['Particulate_matter', 'SO2_concentration', 'O3_concentration',\n",
      "       'CO_concentration', 'NO2_concentration', 'Presure', 'Dew_point',\n",
      "       'Precipitation', 'Anonymous_X1', 'Wind_speed', 'Moisture_percent',\n",
      "       'Temperature'],\n",
      "      dtype='object')\n"
     ]
    }
   ],
   "source": [
    "train2d_c0 = train_data[train_data['City_ID'] == 0].drop(columns=['City_ID', 'ID']).to_numpy()\n",
    "train2d_c1 = train_data[train_data['City_ID'] == 1].drop(columns=['City_ID', 'ID']).to_numpy()\n",
    "dates = train_data[['Datetime']].to_numpy()\n",
    "headers = train_data.drop(columns=['City_ID', 'ID', 'Datetime']).columns\n",
    "\n",
    "print(train2d_c0.shape)\n",
    "print(train2d_c1.shape)\n",
    "print(headers)\n",
    "\n",
    "\n"
   ]
  },
  {
   "cell_type": "code",
   "execution_count": 9,
   "metadata": {},
   "outputs": [
    {
     "data": {
      "text/plain": [
       "array([['01/01/17 14:00'],\n",
       "       ['01/01/17 15:00'],\n",
       "       ['01/01/17 16:00'],\n",
       "       ...,\n",
       "       ['13/03/20 05:00'],\n",
       "       ['13/03/20 06:00'],\n",
       "       ['13/03/20 07:00']], dtype=object)"
      ]
     },
     "execution_count": 9,
     "metadata": {},
     "output_type": "execute_result"
    }
   ],
   "source": [
    "dates"
   ]
  },
  {
   "cell_type": "code",
   "execution_count": 10,
   "metadata": {},
   "outputs": [
    {
     "name": "stdout",
     "output_type": "stream",
     "text": [
      "28002 13/03/20 07:00 ['01/01/17 14:00' '01/01/17 15:00' '01/01/17 16:00' ... '13/03/20 05:00'\n",
      " '13/03/20 06:00' '13/03/20 07:00']\n"
     ]
    }
   ],
   "source": [
    "from datetime import datetime, timedelta\n",
    "\n",
    "# Define the start and end of the datetime range\n",
    "start_d = datetime.strptime(\"01/01/17 14:00\", \"%d/%m/%y %H:%M\")\n",
    "end_d = datetime.strptime(\"13/03/20 07:00\", \"%d/%m/%y %H:%M\")\n",
    "\n",
    "# print(end_d - start_d)\n",
    "\n",
    "correct_dates = []\n",
    "\n",
    "current_d = start_d\n",
    "while current_d<=end_d:\n",
    "    correct_dates.append(current_d.strftime(\"%d/%m/%y %H:%M\"))\n",
    "    current_d += timedelta(hours=1)\n",
    "\n",
    "correct_dates_np  = np.array(correct_dates)\n",
    "print(len(correct_dates_np), correct_dates_np[-1], correct_dates_np)"
   ]
  },
  {
   "cell_type": "code",
   "execution_count": 11,
   "metadata": {},
   "outputs": [
    {
     "data": {
      "text/plain": [
       "[<matplotlib.lines.Line2D at 0x16cb8aa30>]"
      ]
     },
     "execution_count": 11,
     "metadata": {},
     "output_type": "execute_result"
    },
    {
     "data": {
      "image/png": "[encoded data removed]",
      "text/plain": [
       "<Figure size 640x480 with 1 Axes>"
      ]
     },
     "metadata": {},
     "output_type": "display_data"
    }
   ],
   "source": [
    "temp1 = train2d_c1[:2000, 12]\n",
    "plt.plot(range(len(temp1)), temp1)"
   ]
  },
  {
   "cell_type": "code",
   "execution_count": 12,
   "metadata": {},
   "outputs": [
    {
     "data": {
      "text/plain": [
       "[<matplotlib.lines.Line2D at 0x104cd4670>]"
      ]
     },
     "execution_count": 12,
     "metadata": {},
     "output_type": "execute_result"
    },
    {
     "data": {
      "image/png": "[encoded data removed]",
      "text/plain": [
       "<Figure size 640x480 with 1 Axes>"
      ]
     },
     "metadata": {},
     "output_type": "display_data"
    }
   ],
   "source": [
    "temp0 = train2d_c0[:, 12] \n",
    "plt.plot(range(len(temp0)), temp0)"
   ]
  },
  {
   "cell_type": "code",
   "execution_count": 13,
   "metadata": {},
   "outputs": [],
   "source": [
    "def fill_missing_dates(data):\n",
    "   \n",
    "    data_dt = np.array([\n",
    "        datetime.strptime(x, '%d/%m/%y %H:%M') if '/' in x else None\n",
    "        for x in data\n",
    "    ])\n",
    "    \n",
    "    \n",
    "    for i in range(1, len(data_dt) - 1):\n",
    "        if data_dt[i] is None:\n",
    "            \n",
    "            prev = next((data_dt[j] for j in range(i - 1, -1, -1) if data_dt[j] is not None), None)\n",
    "            next_ = next((data_dt[j] for j in range(i + 1, len(data_dt)) if data_dt[j] is not None), None)\n",
    "            \n",
    "            \n",
    "            if prev and next_:\n",
    "                \n",
    "                diff = (next_ - prev) / 2\n",
    "                data_dt[i] = prev + diff\n",
    "            elif prev:\n",
    "                data_dt[i] = prev + timedelta(hours=1)  \n",
    "            elif next_:\n",
    "                data_dt[i] = next_ - timedelta(hours=1)  \n",
    "    \n",
    "    # Convert datetime objects back to strings\n",
    "    data_filled = np.array([dt.strftime('%d/%m/%y %H:%M') if dt else 'N/A' for dt in data_dt])\n",
    "    \n",
    "    return data_filled\n"
   ]
  },
  {
   "cell_type": "code",
   "execution_count": 14,
   "metadata": {},
   "outputs": [
    {
     "name": "stdout",
     "output_type": "stream",
     "text": [
      "[['01/01/17 14:00' 14.0 '40.12' '85' '600.14' 38.55 1024.5 -21.4 0.0 1.15\n",
      "  5.7 62.84 -0.323]\n",
      " ['01/01/17 15:00' 12.0 '65.59' '84' '2082.38' 96.09 1025.1 -22.1 0.0\n",
      "  2.24 3.9 79.45 -0.57]]\n"
     ]
    }
   ],
   "source": [
    "train2d_c0[:, 0] = fill_missing_dates(train2d_c0[:, 0])\n",
    "train2d_c1[:, 0] = fill_missing_dates(train2d_c1[:, 0])\n",
    "\n",
    "print(train2d_c0[:2, :])"
   ]
  },
  {
   "cell_type": "code",
   "execution_count": 15,
   "metadata": {},
   "outputs": [
    {
     "name": "stdout",
     "output_type": "stream",
     "text": [
      "31/12/19 23:00 01/01/17 14:00\n"
     ]
    }
   ],
   "source": [
    "unique_values = np.unique(train2d_c0[:, 0])\n",
    "unique_values.sort()\n",
    "print(unique_values[-1], unique_values[0])"
   ]
  },
  {
   "cell_type": "code",
   "execution_count": 16,
   "metadata": {},
   "outputs": [],
   "source": [
    "def replace_non_numerical_with_nan(arr1):\n",
    "    # Create an empty array of the same shape\n",
    "    result = np.empty(arr1.shape, dtype=float)\n",
    "    for i in range(arr1.shape[0]):\n",
    "        for j in range(arr1.shape[1]):\n",
    "            try:\n",
    "                # Try converting to float\n",
    "                result[i, j] = float(arr1[i, j])\n",
    "            except ValueError:\n",
    "                # Replace with NaN if conversion fails\n",
    "                result[i, j] = np.nan\n",
    "    return result"
   ]
  },
  {
   "cell_type": "code",
   "execution_count": 17,
   "metadata": {},
   "outputs": [
    {
     "name": "stdout",
     "output_type": "stream",
     "text": [
      "31/12/19 23:00 01/01/17 14:00\n",
      "[['01/01/17 14:00' 14.0 40.12 85.0 600.14 38.55 1024.5 -21.4 0.0 1.15 5.7\n",
      "  62.84 -0.323]\n",
      " ['01/01/17 15:00' 12.0 65.59 84.0 2082.38 96.09 1025.1 -22.1 0.0 2.24\n",
      "  3.9 79.45 -0.57]]\n"
     ]
    }
   ],
   "source": [
    "train2d_c0[:,1:] = replace_non_numerical_with_nan(train2d_c0[:,1:])\n",
    "train2d_c1[:,1:] = replace_non_numerical_with_nan(train2d_c1[:,1:])\n",
    "print(unique_values[-1], unique_values[0])\n",
    "print(train2d_c0[:2, :])"
   ]
  },
  {
   "cell_type": "code",
   "execution_count": 18,
   "metadata": {},
   "outputs": [],
   "source": [
    "def fill_nan_with_neighbors_mean(arr):\n",
    "    # Iterate over each column to fill NaNs\n",
    "    for col in range(arr.shape[1]):\n",
    "        for row in range(arr.shape[0]):\n",
    "            if np.isnan(arr[row, col]):\n",
    "                # Check values above and below, handling boundaries\n",
    "                above = arr[row - 1, col] if row - 1 >= 0 else np.nan\n",
    "                below = arr[row + 1, col] if row + 1 < arr.shape[0] else np.nan\n",
    "                \n",
    "                # Calculate mean of available neighbors\n",
    "                non_nan_neighbors = [x for x in [above, below] if not np.isnan(x)]\n",
    "                if non_nan_neighbors:\n",
    "                    arr[row, col] = np.mean(non_nan_neighbors)\n",
    "\n",
    "    return arr\n"
   ]
  },
  {
   "cell_type": "code",
   "execution_count": 19,
   "metadata": {},
   "outputs": [
    {
     "name": "stdout",
     "output_type": "stream",
     "text": [
      "[['01/01/17 14:00' 14.0 40.12 85.0 600.14 38.55 1024.5 -21.4 0.0 1.15 5.7\n",
      "  62.84 -0.323]\n",
      " ['01/01/17 15:00' 12.0 65.59 84.0 2082.38 96.09 1025.1 -22.1 0.0 2.24\n",
      "  3.9 79.45 -0.57]]\n"
     ]
    }
   ],
   "source": [
    "train2d_c0[:,1:] = fill_nan_with_neighbors_mean(train2d_c0[:,1:])\n",
    "train2d_c1[:,1:] = fill_nan_with_neighbors_mean(train2d_c1[:,1:])\n",
    "print(train2d_c0[:2, :])"
   ]
  },
  {
   "cell_type": "code",
   "execution_count": 20,
   "metadata": {},
   "outputs": [
    {
     "name": "stdout",
     "output_type": "stream",
     "text": [
      "[0.0000e+00 1.0000e+00 2.0000e+00 ... 2.7999e+04 2.8000e+04 2.8001e+04] 28001.0 \n",
      " [0.0000e+00 1.0000e+00 2.0000e+00 ... 2.7999e+04 2.8000e+04 2.8001e+04] 28001.0\n",
      "[0.0 1.0 2.0 ... 27999.0 28000.0 28001.0] 28001.0 \n",
      " [0.0 1.0 2.0 ... 27999.0 28000.0 28001.0] 28001.0\n"
     ]
    }
   ],
   "source": [
    "import numpy as np\n",
    "import pandas as pd\n",
    "\n",
    "def convert_datetimes_to_hours(datetime_array, datetime_format=\"%d/%m/%y %H:%M\"):\n",
    "    datetime_array = pd.to_datetime(datetime_array, format=datetime_format)\n",
    "\n",
    "    start_datetime = datetime_array[0]\n",
    "\n",
    "    int_array = np.array([(dt - start_datetime).total_seconds() / 3600 for dt in datetime_array], dtype=float)\n",
    "\n",
    "    return int_array\n",
    "\n",
    "int_array_c0 = convert_datetimes_to_hours(train2d_c0[:,0])\n",
    "int_array_c1 = convert_datetimes_to_hours(train2d_c1[:,0])\n",
    "print(int_array_c0, int_array_c0[-1], \"\\n\",int_array_c1, int_array_c1[-1])\n",
    "train2d_c0[:,0] = int_array_c0\n",
    "train2d_c1[:,0] = int_array_c1\n",
    "print(train2d_c0[:,0], train2d_c0[-1,0], \"\\n\",train2d_c1[:,0], train2d_c1[-1,0])\n"
   ]
  },
  {
   "cell_type": "code",
   "execution_count": 21,
   "metadata": {},
   "outputs": [
    {
     "name": "stdout",
     "output_type": "stream",
     "text": [
      "[[0.0 14.0 40.12 85.0 600.14 38.55 1024.5 -21.4 0.0 1.15 5.7 62.84 -0.323]] <class 'float'>\n"
     ]
    },
    {
     "data": {
      "text/plain": [
       "array([[ 1.4000e+01,  4.0120e+01,  8.5000e+01,  6.0014e+02,  3.8550e+01,\n",
       "         1.0245e+03, -2.1400e+01,  0.0000e+00,  1.1500e+00,  5.7000e+00,\n",
       "         6.2840e+01, -3.2300e-01]])"
      ]
     },
     "execution_count": 21,
     "metadata": {},
     "output_type": "execute_result"
    }
   ],
   "source": [
    "print(train2d_c0[:1,:], type(train2d_c0[0,0]))\n",
    "datetimes_c0 = train2d_c0[:,0]/28001\n",
    "datetimes_c1 = train2d_c1[:,0]/28001\n",
    "train_c0 = train2d_c0[:,1:].astype(float)\n",
    "train_c1 = train2d_c1[:,1:].astype(float)\n",
    "train_c0[:1, :]"
   ]
  },
  {
   "cell_type": "code",
   "execution_count": 22,
   "metadata": {},
   "outputs": [],
   "source": [
    "train_c0 = train_c0.astype(float)\n",
    "train_c1 = train_c1.astype(float)\n",
    "\n",
    "mean = train_c0.mean(axis=0)\n",
    "train_c0 -= mean\n",
    "std = train_c0.std(axis=0)\n",
    "train_c0 /= std\n",
    "np.save('mean_values_c0.npy', mean)\n",
    "np.save('std_values_c0.npy', std)\n",
    "\n",
    "mean = train_c1.mean(axis=0)\n",
    "train_c1 -= mean\n",
    "std = train_c1.std(axis=0)\n",
    "train_c1 /= std\n",
    "np.save('mean_values_c1.npy', mean)\n",
    "np.save('std_values_c1.npy', std)"
   ]
  },
  {
   "cell_type": "code",
   "execution_count": 23,
   "metadata": {},
   "outputs": [
    {
     "name": "stdout",
     "output_type": "stream",
     "text": [
      "[0 0 0 0 0 0 0 0 0 0 0 0]\n"
     ]
    }
   ],
   "source": [
    "nan_count_per_column = np.isnan(train_c0).sum(axis=0)\n",
    "print(nan_count_per_column)"
   ]
  },
  {
   "cell_type": "code",
   "execution_count": 39,
   "metadata": {},
   "outputs": [
    {
     "data": {
      "text/plain": [
       "[<matplotlib.lines.Line2D at 0x16e042d90>]"
      ]
     },
     "execution_count": 39,
     "metadata": {},
     "output_type": "execute_result"
    },
    {
     "data": {
      "image/png": "[encoded data removed]",
      "text/plain": [
       "<Figure size 640x480 with 1 Axes>"
      ]
     },
     "metadata": {},
     "output_type": "display_data"
    }
   ],
   "source": [
    "temp1 = train_c1[:, 0]\n",
    "plt.plot(range(len(temp1)), temp1)"
   ]
  },
  {
   "cell_type": "code",
   "execution_count": 25,
   "metadata": {},
   "outputs": [
    {
     "name": "stdout",
     "output_type": "stream",
     "text": [
      "Index(['Particulate_matter', 'SO2_concentration', 'O3_concentration',\n",
      "       'CO_concentration', 'NO2_concentration', 'Presure', 'Dew_point',\n",
      "       'Precipitation', 'Anonymous_X1', 'Wind_speed', 'Moisture_percent',\n",
      "       'Temperature'],\n",
      "      dtype='object')\n"
     ]
    }
   ],
   "source": [
    "print(headers)"
   ]
  },
  {
   "cell_type": "code",
   "execution_count": 26,
   "metadata": {},
   "outputs": [
    {
     "name": "stdout",
     "output_type": "stream",
     "text": [
      "[0.0 3.571301024963394e-05 7.142602049926788e-05 ... 0.9999285739795007\n",
      " 0.9999642869897504 1.0]\n"
     ]
    }
   ],
   "source": [
    "print(datetimes_c0)\n",
    "df_c0 = pd.DataFrame(train_c0, columns=headers)\n",
    "df_c0_datetime = pd.DataFrame(datetimes_c0, columns=['Datetime'])\n",
    "df_c0['Datetime'] = df_c0_datetime['Datetime']\n",
    "df_c0['ID'] = city0_ids['ID']\n",
    "df_c0.head()\n",
    "df_c0.to_csv('dataset/train_clean_c0.csv', index=False)"
   ]
  },
  {
   "cell_type": "code",
   "execution_count": 27,
   "metadata": {},
   "outputs": [
    {
     "name": "stdout",
     "output_type": "stream",
     "text": [
      "[0.0 3.571301024963394e-05 7.142602049926788e-05 ... 0.9999285739795007\n",
      " 0.9999642869897504 1.0]\n"
     ]
    }
   ],
   "source": [
    "print(datetimes_c1)\n",
    "df_c1 = pd.DataFrame(train_c1, columns=headers)\n",
    "df_c1_datetime = pd.DataFrame(datetimes_c1, columns=['Datetime'])\n",
    "df_c1['Datetime'] = df_c1_datetime['Datetime']\n",
    "df_c1['ID'] = city1_ids['ID']\n",
    "df_c1.head()\n",
    "df_c0.to_csv('dataset/train_clean_c1.csv', index=False)\n"
   ]
  },
  {
   "cell_type": "code",
   "execution_count": null,
   "metadata": {},
   "outputs": [],
   "source": []
  }
 ],
 "metadata": {
  "kernelspec": {
   "display_name": ".venv",
   "language": "python",
   "name": "python3"
  },
  "language_info": {
   "codemirror_mode": {
    "name": "ipython",
    "version": 3
   },
   "file_extension": ".py",
   "mimetype": "text/x-python",
   "name": "python",
   "nbconvert_exporter": "python",
   "pygments_lexer": "ipython3",
   "version": "3.9.20"
  }
 },
 "nbformat": 4,
 "nbformat_minor": 2
}
